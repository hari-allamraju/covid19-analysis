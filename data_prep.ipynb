{
 "cells": [
  {
   "cell_type": "code",
   "execution_count": 1,
   "metadata": {},
   "outputs": [
    {
     "name": "stderr",
     "output_type": "stream",
     "text": [
      "/Users/hari/.pyenv/versions/3.6.5/envs/covid/lib/python3.6/site-packages/pandas/compat/__init__.py:117: UserWarning: Could not import the lzma module. Your installed Python is incomplete. Attempting to use lzma compression will result in a RuntimeError.\n",
      "  warnings.warn(msg)\n"
     ]
    }
   ],
   "source": [
    "import pandas as pd\n",
    "pd.options.mode.chained_assignment = None\n",
    "import seaborn as sns\n",
    "import sqlite3\n",
    "import glob\n",
    "from matplotlib import pyplot as plt"
   ]
  },
  {
   "cell_type": "code",
   "execution_count": 2,
   "metadata": {},
   "outputs": [
    {
     "name": "stdout",
     "output_type": "stream",
     "text": [
      "79\n"
     ]
    }
   ],
   "source": [
    "path = r'/Users/hari/python/py3/covid/COVID-19/csse_covid_19_data/csse_covid_19_daily_reports' \n",
    "all_files = glob.glob(path + \"/*.csv\")\n",
    "print(len(all_files))"
   ]
  },
  {
   "cell_type": "code",
   "execution_count": 5,
   "metadata": {},
   "outputs": [],
   "source": [
    "!rm covid.db\n",
    "conn = sqlite3.connect(\"covid.db\")\n",
    "for filename in all_files:\n",
    "    df=pd.read_csv(filename,header=0,index_col=None)\n",
    "    df=df.rename(columns={\"Country/Region\": \"Country\", \n",
    "                          \"Country_Region\":\"Country\",\n",
    "                          \"Province/State\": \"Province\",\n",
    "                          \"Province_State\":\"Province\",\n",
    "                          \"Last_Update\":\"LastUpdate\",\n",
    "                          \"Last Update\":\"LastUpdate\",\n",
    "                          \"Lat\":\"Latitude\",\n",
    "                          \"Long_\":\"Longitude\",\n",
    "                          \"Combined_Key\":\"CombinedKey\"})\n",
    "    if not \"Latitude\" in df.columns:\n",
    "        df['Latitude']=None\n",
    "    if not \"Longitude\" in df.columns:\n",
    "        df['Longitude']=None\n",
    "    if not \"Active\" in df.columns:\n",
    "        df['Active']=None\n",
    "    if not \"CombinedKey\" in df.columns:\n",
    "        df['CombinedKey']=None\n",
    "\n",
    "\n",
    "    if 'FIPS' in df.columns:\n",
    "        df = df.drop(\"FIPS\",axis=1)\n",
    "    if 'Admin2' in df.columns:\n",
    "        df = df.drop(\"Admin2\",axis=1)\n",
    "    df['Date']=pd.to_datetime(df['LastUpdate']).dt.date\n",
    "    df_country=df[['Date','Country','Confirmed','Deaths','Recovered']].groupby(['Date','Country']).sum()\n",
    "    df_country.to_sql('daily',conn,if_exists='append')\n",
    "    df_latlon=df[['Date','Country','Latitude','Longitude','Confirmed','Deaths','Recovered']].groupby(['Date','Country','Latitude','Longitude']).sum()\n",
    "    df_latlon.to_sql('daily_latlon',conn,if_exists='append')\n",
    "\n",
    "conn.execute(\"update daily set Country='South Korea' where Country like 'Korea, South'\")\n",
    "conn.execute(\"update daily set Country='South Korea' where Country like 'Republic Of Korea'\")\n",
    "conn.execute(\"update daily_latlon set Country='South Korea' where Country like 'Korea, South'\")\n",
    "conn.execute(\"update daily_latlon set Country='South Korea' where Country like 'Republic Of Korea'\")\n",
    "\n",
    "conn.commit()\n",
    "conn.close()"
   ]
  }
 ],
 "metadata": {
  "kernelspec": {
   "display_name": "Python 3",
   "language": "python",
   "name": "python3"
  },
  "language_info": {
   "codemirror_mode": {
    "name": "ipython",
    "version": 3
   },
   "file_extension": ".py",
   "mimetype": "text/x-python",
   "name": "python",
   "nbconvert_exporter": "python",
   "pygments_lexer": "ipython3",
   "version": "3.6.5"
  }
 },
 "nbformat": 4,
 "nbformat_minor": 4
}
