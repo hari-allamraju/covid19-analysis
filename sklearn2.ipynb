{
 "cells": [
  {
   "cell_type": "code",
   "execution_count": 1,
   "metadata": {},
   "outputs": [
    {
     "name": "stderr",
     "output_type": "stream",
     "text": [
      "/Users/hari/.pyenv/versions/3.6.5/envs/covid/lib/python3.6/site-packages/pandas/compat/__init__.py:117: UserWarning: Could not import the lzma module. Your installed Python is incomplete. Attempting to use lzma compression will result in a RuntimeError.\n",
      "  warnings.warn(msg)\n"
     ]
    }
   ],
   "source": [
    "import pandas as pd\n",
    "pd.options.mode.chained_assignment = None\n",
    "import seaborn as sns\n",
    "import sqlite3\n",
    "import glob\n",
    "from matplotlib import pyplot as plt\n",
    "import numpy as np\n",
    "from sklearn import preprocessing\n",
    "from sklearn.model_selection import train_test_split\n",
    "from sklearn.linear_model import LinearRegression\n",
    "from sklearn.preprocessing import PolynomialFeatures\n",
    "from sklearn.metrics import mean_squared_error\n",
    "from sklearn.ensemble import RandomForestRegressor"
   ]
  },
  {
   "cell_type": "code",
   "execution_count": 93,
   "metadata": {},
   "outputs": [],
   "source": [
    "def get_data():\n",
    "    conn = sqlite3.connect(\"covid.db\")\n",
    "    df_all = pd.read_sql(\"select * from daily\",conn)\n",
    "    conn.close()\n",
    "    df_all=df_all.sort_values('Date')\n",
    "    df_all=df_all[['Date','Country','Confirmed','Deaths','Recovered']].fillna(0)\n",
    "    df_all['Infected'] = df_all['Confirmed']-(df_all['Recovered']-df_all['Deaths'])\n",
    "    return df_all\n",
    "\n",
    "\n",
    "def predict_poly_reg(country,column,date):\n",
    "    df = get_data()\n",
    "    df = df[df['Confirmed']>0]\n",
    "    le_date = preprocessing.LabelEncoder()\n",
    "    le_date.fit(df['Date'].values)\n",
    "    df['Date']=le_date.transform(df['Date']).reshape(-1, 1)\n",
    "    le_cntr = preprocessing.LabelEncoder()\n",
    "    le_cntr.fit(df['Country'].values)\n",
    "    df['Country']=le_cntr.transform(df['Country']).reshape(-1, 1)\n",
    "\n",
    "    X=df[['Date','Country']].values\n",
    "    y=df[column].values\n",
    "    \n",
    "    X_train, X_test, y_train, y_test = train_test_split(X, y, test_size=0.2, random_state=42)\n",
    "\n",
    "    poly_reg = PolynomialFeatures(degree=4)\n",
    "    X_poly = poly_reg.fit_transform(X_train)\n",
    "    pol_reg = LinearRegression()\n",
    "    pol_reg.fit(X_poly, y_train)\n",
    "\n",
    "    error = mean_squared_error(y, pol_reg.predict(poly_reg.fit_transform(X)), squared=False)\n",
    "    print(\"Error {0}\".format(error))\n",
    "    X_user=np.array([le_date.transform([date]),le_cntr.transform([country])]).reshape(-1,2)\n",
    "    print(pol_reg.predict(poly_reg.fit_transform(X_user)))\n",
    "\n",
    "def apply_random_forest(country,column,date):\n",
    "    df = get_data()\n",
    "    df = df[df['Confirmed']>0]\n",
    "    le_date = preprocessing.LabelEncoder()\n",
    "    le_date.fit(df['Date'].values)\n",
    "    df['Date']=le_date.transform(df['Date']).reshape(-1, 1)\n",
    "    le_cntr = preprocessing.LabelEncoder()\n",
    "    le_cntr.fit(df['Country'].values)\n",
    "    df['Country']=le_cntr.transform(df['Country']).reshape(-1, 1)\n",
    "\n",
    "    X=df[['Date','Country']].values\n",
    "    y=df[column].values\n",
    "\n",
    "    X_train, X_test, y_train, y_test = train_test_split(X, y, test_size=0.2, random_state=42)\n",
    "\n",
    "    reg = RandomForestRegressor(max_depth=None,random_state=0)\n",
    "    reg.fit(X_train,y_train)\n",
    "\n",
    "    error = mean_squared_error(y, reg.predict(X), squared=False)\n",
    "    print(error)\n",
    "    X_user=np.array([le_date.transform([date]),le_cntr.transform([country])]).reshape(-1,2)\n",
    "    print(reg.predict(X_user))"
   ]
  },
  {
   "cell_type": "code",
   "execution_count": 99,
   "metadata": {},
   "outputs": [
    {
     "name": "stdout",
     "output_type": "stream",
     "text": [
      "Error 18528.329709882753\n",
      "[9604.78416318]\n"
     ]
    }
   ],
   "source": [
    "predict_poly_reg('Singapore','Confirmed','2020-04-11')"
   ]
  },
  {
   "cell_type": "code",
   "execution_count": 103,
   "metadata": {},
   "outputs": [
    {
     "name": "stdout",
     "output_type": "stream",
     "text": [
      "231.19224499309144\n",
      "[1169.54]\n"
     ]
    }
   ],
   "source": [
    "apply_random_forest('UK','Deaths','2020-04-11')"
   ]
  }
 ],
 "metadata": {
  "kernelspec": {
   "display_name": "Python 3",
   "language": "python",
   "name": "python3"
  },
  "language_info": {
   "codemirror_mode": {
    "name": "ipython",
    "version": 3
   },
   "file_extension": ".py",
   "mimetype": "text/x-python",
   "name": "python",
   "nbconvert_exporter": "python",
   "pygments_lexer": "ipython3",
   "version": "3.6.5"
  }
 },
 "nbformat": 4,
 "nbformat_minor": 4
}
